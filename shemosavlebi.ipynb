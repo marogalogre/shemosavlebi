{
  "metadata": {
    "kernelspec": {
      "name": "python",
      "display_name": "Python (Pyodide)",
      "language": "python"
    },
    "language_info": {
      "codemirror_mode": {
        "name": "python",
        "version": 3
      },
      "file_extension": ".py",
      "mimetype": "text/x-python",
      "name": "python",
      "nbconvert_exporter": "python",
      "pygments_lexer": "ipython3",
      "version": "3.8"
    }
  },
  "nbformat_minor": 4,
  "nbformat": 4,
  "cells": [
    {
      "cell_type": "code",
      "source": "import pandas as pd\nimport matplotlib.pyplot as plt\nimport seaborn as sns\n\n# \"მოსახლეობის საშუალო თვიური შემოსავლების განაწილება (მილიონი ლარი)\"\t\t\n# Input data\ndata = {\n    \"Year\": list(range(2002, 2023)),\n    \"Total_Income_Million_GEL\": [239.9, 263.2, 285.0, 314.7, 350.6, 395.2, 494.5, 542.0, 595.9, 636.4, 711.2, 814.1, 904.9, 951.7, 1001.2, 1016.0, 1062.0, 1132.0, 1116.6, 1258.4, 1482.5],\n    \"Salary_and_Transfers\": [165.6, 187.7, 202.1, 239.9, 274.3, 322.5, 410.3, 456.1, 518.1, 549.3, 628.5, 736.3, 823.5, 875.4, 923.8, 940.9, 985.7, 1057.1, 1037.0, 1170.2, 1387.7],\n    \"From_Employment\": [64.2, 68.8, 75.1, 97.8, 118.8, 146.3, 185.9, 205.9, 227.1, 240.7, 279.2, 331.1, 363.7, 429.1, 449.5, 465.5, 490.0, 515.0, 495.5, 537.3, 640.1],\n    \"From_Self_Employment\": [32.2, 36.3, 40.0, 43.0, 44.0, 47.5, 58.3, 60.7, 61.9, 59.9, 75.7, 80.2, 83.0, 90.7, 92.0, 104.2, 112.6, 120.5, 97.5, 119.2, 171.7],\n    \"From_Agricultural_Sales\": [28.5, 28.2, 31.2, 29.2, 29.2, 25.9, 28.4, 27.4, 35.5, 42.9, 42.4, 45.4, 62.2, 71.4, 66.8, 52.0, 60.7, 64.2, 58.7, 80.6, 98.3],\n    \"From_Property_Sales\": [1.1, 1.9, 2.6, 3.7, 1.5, 4.3, 3.8, 7.4, 8.0, 6.5, 5.1, 8.8, 10.6, 10.3, 12.8, 11.5, 14.9, 13.1, 9.9, 14.7, 13.4],\n    \"Pensions_and_Aid\": [13.5, 9.0, 16.4, 26.9, 33.8, 43.6, 65.5, 75.9, 85.4, 89.4, 98.1, 124.7, 152.6, 151.4, 163.2, 171.3, 176.0, 201.3, 243.0, 264.8, 300.3],\n    \"Received_from_Abroad\": [12.2, 21.0, 13.7, 14.7, 16.5, 19.3, 21.8, 25.0, 27.8, 30.9, 30.3, 36.9, 39.2, 30.6, 31.2, 36.2, 42.5, 49.9, 40.3, 50.3, 55.8],\n    \"Received_as_Gift\": [13.9, 22.5, 23.2, 24.7, 30.5, 35.5, 46.7, 53.9, 72, 78.9, 97.8, 109.2, 112.3, 91.9, 108.3, 100.1, 89.0, 93.0, 92.1, 103.4, 108.2],\n    \"Non_Salary_Income\": [74.4, 75.5, 82.8, 74.8, 76.3, 72.7, 84.2, 85.8, 77.9, 87.0, 82.7, 77.8, 81.4, 76.3, 77.4, 75.2, 76.3, 74.9, 79.5, 88.2, 94.8],\n    \"Other_Income\": [47.7, 45.4, 45.6, 45.9, 48.2, 55.8, 79.0, 68.2, 93.4, 108.9, 119.5, 119.7, 131.0, 128.5, 125.6, 165.9, 125.3, 119.3, 78.1, 101.8, 113.6],\n    \"Property_Sales\": [9.7, 9.5, 10.5, 5.7, 7.4, 7.3, 11.7, 7.6, 12.6, 18.7, 20.9, 8.7, 10.4, 8.7, 9.0, 12.3, 5.5, 7.8, 2.3, 5.8, 8.1],\n    \"Loan_Usage\": [38.0, 36.0, 35.1, 40.2, 40.8, 48.5, 67.3, 60.6, 80.8, 90.2, 98.6, 110.9, 120.7, 119.7, 116.7, 153.5, 119.8, 111.5, 75.8, 96.0, 105.5],\n    \"Total_Expenses_Million_GEL\": [213.2, 233.1, 247.7, 285.8, 322.4, 378.3, 489.4, 524.4, 611.5, 658.2, 748.0, 856.0, 954.6, 1003.9, 1049.4, 1106.7, 1111.0, 1176.4, 1115.1, 1271.9, 1501.2],\n    \"Total_Income_and_Expenses_Million_GEL\": [287.6, 308.6, 330.6, 360.6, 398.7, 451.0, 573.6, 610.2, 689.3, 745.2, 830.7, 933.7, 1035.9, 1080.2, 1126.8, 1181.9, 1187.2, 1251.3, 1194.6, 1360.2, 1596.1]\n}\n\ndf = pd.DataFrame(data)\n\n# Display basic statistics\nprint(df.describe())\n\n# Plot correlations between different columns\ncorrelation_matrix = df.corr()\nplt.figure(figsize=(12, 8))\nsns.heatmap(correlation_matrix, annot=True, cmap=\"coolwarm\", fmt=\".2f\", linewidths=.5)\nplt.title(\"Correlation Matrix\")\nplt.show()\n\n# Plot total income and expenses over the years\nplt.figure(figsize=(12, 8))\nplt.plot(df[\"Year\"], df[\"Total_Income_Million_GEL\"], label=\"Total Income\")\nplt.plot(df[\"Year\"], df[\"Total_Expenses_Million_GEL\"], label=\"Total Expenses\")\nplt.xlabel(\"Year\")\nplt.ylabel(\"Million GEL\")\nplt.title(\"Total Income and Expenses Over the Years\")\nplt.legend()\nplt.show()\n\n# Plot income distribution categories over the years\nplt.figure(figsize=(12, 8))\nplt.stackplot(df[\"Year\"], df[\"Salary_and_Transfers\"], df[\"Received_from_Abroad\"], df[\"Pensions_and_Aid\"],\n              df[\"Property_Sales\"], df[\"Loan_Usage\"], labels=[\"Salary and Transfers\", \"Received from Abroad\",\n                                                                \"Pensions and Aid\", \"Property Sales\", \"Loan Usage\"])\nplt.xlabel(\"Year\")\nplt.ylabel(\"Million GEL\")\nplt.title(\"Income Distribution Categories Over the Years\")\nplt.legend(loc=\"upper left\")\nplt.show()",
      "metadata": {
        "trusted": true
      },
      "outputs": [],
      "execution_count": null
    },
    {
      "cell_type": "code",
      "source": "# Sort the DataFrame by the \"Year\" column in ascending order\ndf_sorted = df.sort_values(by=\"Year\", ascending=True)\n\n# Display the sorted DataFrame\nprint(df_sorted)",
      "metadata": {
        "trusted": true
      },
      "outputs": [],
      "execution_count": null
    },
    {
      "cell_type": "code",
      "source": "# Sort the original DataFrame in-place\ndf.sort_values(by=\"Year\", ascending=True, inplace=True)\n\n# Display the sorted DataFrame\nprint(df)",
      "metadata": {
        "trusted": true
      },
      "outputs": [],
      "execution_count": null
    },
    {
      "cell_type": "code",
      "source": "# \"მოსახლეობის საშუალო თვიური ხარჯების განაწილება (მილიონი ლარი)\"\t\n# Creating a dictionary with the provided data\ndata = {\n    \"სამომხმარებლო ხარჯები, სულ (2+3)\": 1204.3,\n    \"სამომხმარებლო ფულადი ხარჯები\": 1109.5,\n    \"სურსათზე, სასმელზე, თამბაქოს ნაწარმზე\": 463.2,\n    \"ტანსაცმელსა და ფეხსაცმელზე\": 43.0,\n    \"საოჯახო მოხმარების საქონელზე\": 37.9,\n    \"ჯანმრთელობის დაცვაზე\": 133.0,\n    \"საცხოვრებელ სახლზე, წყალზე, ელექტროენერგიაზე, გაზზე და სხვა სათბობზე\": 130.6,\n    \"ტრანსპორტზე\": 131.4,\n    \"განათლებაზე\": 26.1,\n    \"სხვა სამომხმარებლო ხარჯები\": 144.2,\n    \"არაფულადი ხარჯები\": 94.8,\n    \"არასამომხმარებლო ფულადი ხარჯები\": 347.6,\n    \"სასოფლო–სამეურნეო ხარჯები\": 43.7,\n    \"ტრანსფერტებზე\": 40.9,\n    \"დაზოგვაზე ან გასესხებაზე\": 230.7,\n    \"ქონების შეძენაზე\": 32.3,\n    \"ფულადი ხარჯები, სულ (2+4)\": 1457.1,\n    \"ხარჯები, სულ (3+5)\": 1551.9\n}\n\n# Creating a DataFrame\ndf = pd.DataFrame(list(data.items()), columns=['Category', 'Amount'])\n",
      "metadata": {
        "trusted": true
      },
      "outputs": [],
      "execution_count": null
    },
    {
      "cell_type": "code",
      "source": "# plotting\n# Set the style for seaborn\nsns.set(style=\"whitegrid\")\n\n# Create a bar plot using seaborn\nplt.figure(figsize=(12, 8))\nbarplot = sns.barplot(x='Amount', y='Category', data=df, palette='viridis', orient='h')\n\n# Adding labels and title\nplt.xlabel('თვიური ხარჯები (მილიონი ლარი)')\nplt.ylabel('კატეგორია')\nplt.title('მოსახლეობის საშუალო თვიური ხარჯების განაწილება (2022)')\n\n# Show the plot\nplt.show()",
      "metadata": {
        "trusted": true
      },
      "outputs": [],
      "execution_count": null
    },
    {
      "cell_type": "code",
      "source": "# Sort the DataFrame by the \"Year\" column in descending order\ndf_sorted_desc = df.sort_values(by=\"Year\", ascending=False)\n\n# Display the sorted DataFrame in descending order\nprint(df_sorted_desc)",
      "metadata": {
        "trusted": true
      },
      "outputs": [],
      "execution_count": null
    },
    {
      "cell_type": "code",
      "source": "# Sort the original DataFrame in-place in descending order\ndf.sort_values(by=\"Year\", ascending=False, inplace=True)\n\n# Display the sorted DataFrame in descending order\nprint(df)",
      "metadata": {
        "trusted": true
      },
      "outputs": [],
      "execution_count": null
    },
    {
      "cell_type": "code",
      "source": "# \"ერთ სულზე მოსახლეობის საშუალო თვიური შემოსავლების განაწილება რეგიონების მიხედვით (ლარი)\"\t\t\n\n# Create a DataFrame from the provided data\ndata = {\n    'Region': ['კახეთი', 'თბილისი', 'შიდა ქართლი', 'ქვემო ქართლი', 'სამცხე-ჯავახეთი', 'აჭარის ა.რ.', 'გურია', 'სამეგრელო–ზემო სვანეთი', 'იმერეთი*', 'მცხეთა-მთიანეთი', 'რაჭა-ლეჩხუმი და ქვემო სვანეთი', 'საქართველო'],\n    'Total_Income': [480.0, 406.9, 374.0, 331.3, 437.0, 396.9, 333.4, 384.0, 435.8, 388.7, 490.9, 401.9],\n    'Salary_Transfers': [442.5, 404.0, 333.0, 316.3, 392.4, 378.8, 288.6, 333.9, 380.6, 364.2, 409.8, 376.2],\n    'Business_Income': [146.3, 226.6, 138.0, 148.4, 125.4, 186.7, 114.4, 131.6, 144.8, 163.6, 172.0, 173.5],\n    'Self_Employment': [53.9, 48.3, 43.5, 34.5, 19.3, 63.8, 30.7, 42.3, 53.4, 46.9, 19.0, 46.5],\n    'Agricultural_Sales': [112.1, 0.4, 30.1, 27.1, 113.1, 15.4, 20.9, 27.0, 19.5, 19.4, 29.8, 26.6],\n    'Property_Sales': [0.5, 6.0, 4.0, 0.9, 1.0, 7.7, 1.3, 1.0, 1.7, 4.1, 1.7, 3.6],\n    'Pensions_Support': [87.5, 75.5, 80.4, 71.8, 77.9, 69.0, 94.5, 97.3, 92.4, 97.2, 149.6, 81.4],\n    'External_Remittances': [13.7, 7.8, 17.0, 12.0, 29.5, 15.7, 8.2, 16.0, 35, 6.7, 4.4, 15.1],\n    'Gift_Income': [28.5, 39.3, 20.1, 21.7, 26.2, 20.4, 18.5, 18.6, 33.8, 26.2, 33.3, 29.3],\n    'Unearned_Income': [37.5, 2.9, 41.0, 15.0, 44.6, 18.2, 44.9, 50.0, 55.2, 24.5, 81.2, 25.7],\n    'Other_Income': [63.7, 21.8, 39.6, 17.5, 90.4, 20.5, 13.4, 18.8, 43.4, 15.4, 34.7, 30.8],\n    'Property_Sales': [2.6, 1.3, 3.2, 1.1, 3.7, 2.0, 0.4, 1.5, 5.6, 0.6, 0.9, 2.2],\n    'Loans_Usage': [61.1, 20.5, 36.4, 16.5, 86.7, 18.5, 13.0, 17.3, 37.8, 14.8, 33.8, 28.6]\n}\n\ndf = pd.DataFrame(data)\n\n# Set the 'Region' column as the index for better visualization\ndf.set_index('Region', inplace=True)\n\n# Plot the data\nplt.figure(figsize=(12, 8))\ndf.plot(kind='bar', stacked=True)\nplt.title('Income Distribution by Region in Georgia')\nplt.xlabel('Region')\nplt.ylabel('Income (in millions of Lari)')\nplt.legend(title='Income Type')\nplt.show()",
      "metadata": {
        "trusted": true
      },
      "outputs": [],
      "execution_count": null
    },
    {
      "cell_type": "code",
      "source": "# Filter data for 'თბილისი'\ndf_tbilisi = df[df['Region'] == 'თბილისი']\n\n# Set the 'Region' column as the index for better visualization\ndf_tbilisi.set_index('Region', inplace=True)\n\n# Transpose the DataFrame for a better structure\ndf_transposed = df_tbilisi.T\n\n# Plot the data using seaborn\nplt.figure(figsize=(14, 8))\nsns.barplot(data=df_transposed, palette='viridis')\nplt.title('Income Distribution in თბილისი')\nplt.xlabel('Income Type')\nplt.ylabel('Income (in millions of Lari)')\nplt.xticks(rotation=45, ha='right')\nplt.show()",
      "metadata": {
        "trusted": true
      },
      "outputs": [],
      "execution_count": null
    },
    {
      "cell_type": "code",
      "source": "# \"ერთ სულზე მოსახლეობის საშუალო თვიური ხარჯების განაწილება რეგიონების მიხედვით (ლარი)\"\t\t\n\n# Raw data\ndata = {\n    'Region': ['კახეთი', 'თბილისი', 'შიდა ქართლი', 'ქვემო ქართლი', 'სამცხე-ჯავახეთი', 'აჭარის ა.რ.', 'გურია', \n               'სამეგრელო–ზემო სვანეთი', 'იმერეთი*', 'მცხეთა-მთიანეთი', 'რაჭა-ლეჩხუმი და ქვემო სვანეთი', 'საქართველო'],\n    'Total_Expenditure': [364.1, 360.4, 327.3, 245.4, 332.9, 282.1, 254.4, 308.7, 350.9, 306.1, 368.2, 326.5],\n    'Daily_Expenses': [326.6, 357.5, 286.3, 230.4, 288.3, 263.9, 209.5, 258.6, 295.7, 281.6, 287.0, 300.8],\n    'Other_Expenses': [149.6, 140.3, 129.0, 100.0, 108.0, 104.0, 109.3, 128.7, 117.4, 129.5, 117.5, 125.6],\n    'Clothing_and_Footwear': [9.1, 14.6, 10.1, 8.3, 14.5, 12.1, 5.5, 11.7, 9.9, 12.6, 9.4, 11.7],\n    'Housing_Equipment': [10.0, 10.7, 10.7, 10.8, 11.1, 9.5, 6.3, 9.0, 10.2, 13.6, 10.9, 10.3],\n    'Health_Care': [44.1, 38.2, 31.2, 27.6, 36.4, 30.7, 25.8, 25.0, 49.7, 28.2, 54.0, 36.1],\n    'Utilities': [30.7, 47.7, 30.5, 25.9, 36.7, 34.7, 22.5, 26.6, 25.9, 41.2, 32.3, 35.4],\n    'Transportation': [47.7, 41.6, 32.3, 24.3, 43.7, 27.4, 19.3, 26.4, 40.1, 26.5, 31.2, 35.6],\n    'Education': [4.3, 10.5, 8.0, 3.5, 3.9, 9.1, 1.2, 4.2, 6.8, 2.1, 2.3, 7.1],\n    'Other_Expenses_2': [31.1, 53.9, 34.6, 30.1, 33.9, 36.4, 19.6, 27.0, 35.7, 27.9, 29.5, 39.1],\n    'Non_Food_Expenses': [37.5, 2.9, 41.0, 15.0, 44.6, 18.2, 44.9, 50.0, 55.2, 24.5, 81.2, 25.7],\n    'Non_Food_Expenses_2': [181.5, 62.8, 89.6, 73.8, 210.1, 88.1, 58.4, 88.8, 119.9, 81.9, 120.4, 94.2],\n    'Village_Agricultural_Expenses': [64.5, 0.2, 13.3, 7.0, 26.3, 4.2, 8.0, 14.0, 13.1, 4.7, 14.9, 11.9],\n    'Transfer_Expenses': [15.5, 7.8, 8.2, 5.7, 36.9, 6.6, 6.8, 15.2, 17.1, 7.6, 17.0, 11.1],\n    'Debt_Interest_Expenses': [77.5, 49.1, 60.3, 56.9, 131.5, 72.3, 40.8, 55.9, 73.7, 61.5, 68.5, 62.5],\n    'Property_Purchase_Expenses': [24.0, 5.8, 7.8, 4.3, 15.4, 4.9, 2.7, 3.7, 15.9, 8.1, 19.9, 8.7],\n}\n\n# Create a DataFrame\ndf = pd.DataFrame(data)\n\n# Set the 'Region' column as the index\ndf.set_index('Region', inplace=True)\n\n# Plotting\nfig, ax = plt.subplots(figsize=(12, 8))\ndf.T.plot(kind='bar', stacked=True, ax=ax)\nplt.title('Average Monthly Expenditure Distribution by Region (in GEL)')\nplt.xlabel('Expenditure Categories')\nplt.ylabel('Total Expenditure')\nplt.legend(title='Region', bbox_to_anchor=(1.05, 1), loc='upper left')\n\n# Display the plot\nplt.show()\n",
      "metadata": {
        "trusted": true
      },
      "outputs": [],
      "execution_count": null
    },
    {
      "cell_type": "code",
      "source": "# Filter data for Georgia\ngeorgia_data = df[df['Region'] == 'საქართველო']\n\n# Plotting\nfig, ax = plt.subplots(figsize=(12, 8))\ngeorgia_data.set_index('Region').T.plot(kind='bar', stacked=True, ax=ax)\nplt.title('Average Monthly Expenditure Distribution in Georgia (in GEL)')\nplt.xlabel('Expenditure Categories')\nplt.ylabel('Total Expenditure')\nplt.legend(title='Region', bbox_to_anchor=(1.05, 1), loc='upper left')\n\n# Display the plot\nplt.show()",
      "metadata": {
        "trusted": true
      },
      "outputs": [],
      "execution_count": null
    },
    {
      "cell_type": "code",
      "source": "",
      "metadata": {
        "trusted": true
      },
      "outputs": [],
      "execution_count": null
    }
  ]
}